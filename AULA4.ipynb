{
  "nbformat": 4,
  "nbformat_minor": 0,
  "metadata": {
    "colab": {
      "provenance": [],
      "authorship_tag": "ABX9TyMTKQjvsWsX74q9RKVQnO1J",
      "include_colab_link": true
    },
    "kernelspec": {
      "name": "python3",
      "display_name": "Python 3"
    },
    "language_info": {
      "name": "python"
    }
  },
  "cells": [
    {
      "cell_type": "markdown",
      "metadata": {
        "id": "view-in-github",
        "colab_type": "text"
      },
      "source": [
        "<a href=\"https://colab.research.google.com/github/ElicleytonPB/AULASPROGRAMA-OFPB/blob/main/AULA4.ipynb\" target=\"_parent\"><img src=\"https://colab.research.google.com/assets/colab-badge.svg\" alt=\"Open In Colab\"/></a>"
      ]
    },
    {
      "cell_type": "code",
      "execution_count": 51,
      "metadata": {
        "colab": {
          "base_uri": "https://localhost:8080/"
        },
        "id": "cBTWbYM6kzoA",
        "outputId": "9b724ccf-0563-41ee-feba-2141d16da910"
      },
      "outputs": [
        {
          "output_type": "stream",
          "name": "stdout",
          "text": [
            "Olá mundo\n",
            "Digite um número para saber sua tabuada\n",
            "num :  8536\n",
            "------------\n",
            "8536 x  1 = 8536\n",
            "8536 x  2 = 17072\n",
            "8536 x  3 = 25608\n",
            "8536 x  4 = 34144\n",
            "8536 x  5 = 42680\n",
            "8536 x  6 = 51216\n",
            "8536 x  7 = 59752\n",
            "8536 x  8 = 68288\n",
            "8536 x  9 = 76824\n",
            "8536 x 10 = 85360\n",
            "8536 x 11 = 93896\n",
            "8536 x 12 = 102432\n",
            "8536 x 13 = 110968\n"
          ]
        }
      ],
      "source": [
        "print('Olá mundo')\n",
        "print('Digite um número para saber sua tabuada')\n",
        "numero=int(input('num :  '))\n",
        "print('-' * 12)\n",
        "print('{} x {:2} = {}'.format(numero, 1,numero*1))\n",
        "print('{} x {:2} = {}'.format(numero, 2,numero*2))\n",
        "print('{} x {:2} = {}'.format(numero, 3,numero*3))\n",
        "print('{} x {:2} = {}'.format(numero, 4,numero*4))\n",
        "print('{} x {:2} = {}'.format(numero, 5,numero*5))\n",
        "print('{} x {:2} = {}'.format(numero, 6,numero*6))\n",
        "print('{} x {:2} = {}'.format(numero, 7,numero*7))\n",
        "print('{} x {:2} = {}'.format(numero, 8,numero*8))\n",
        "print('{} x {:2} = {}'.format(numero, 9,numero*9))\n",
        "print('{} x {:2} = {}'.format(numero, 10,numero*10))\n",
        "print('{} x {:2} = {}'.format(numero, 11,numero*11))\n",
        "print('{} x {:2} = {}'.format(numero, 12,numero*12))\n",
        "print('{} x {:2} = {}'.format(numero, 13,numero*13))"
      ]
    },
    {
      "cell_type": "code",
      "source": [
        "#Tipos booleanos\n",
        "print(100==(50+50))\n",
        "print(100<(99))\n",
        "print(450==(100*4.5))\n",
        "print(8.567>(150*57.8))\n",
        "print(100 != 99)\n"
      ],
      "metadata": {
        "id": "nJX35FuUn4lZ"
      },
      "execution_count": null,
      "outputs": []
    },
    {
      "cell_type": "code",
      "source": [
        "#Idade maior ou igual a 16 exibir habilitação\n",
        "\n",
        "idade=int(input('Digite a sua idade: '))\n",
        "if(idade>=16):\n",
        "    print('**Habilitação**')\n",
        "else:\n",
        "    print('**Não habilitação**')\n"
      ],
      "metadata": {
        "colab": {
          "base_uri": "https://localhost:8080/"
        },
        "id": "lSHzQ3l-pXcG",
        "outputId": "12635cb2-0b0a-4ef6-f31e-afe467e0b7a1"
      },
      "execution_count": 23,
      "outputs": [
        {
          "output_type": "stream",
          "name": "stdout",
          "text": [
            "Digite a sua idade: 47\n",
            "**Habilitação**\n"
          ]
        }
      ]
    },
    {
      "cell_type": "code",
      "source": [
        "#Feminino e tiver 55 anos ou mais pode se aposentar:\n",
        "#Masculino 60 ou mais se aposentar:\n",
        "\n",
        "sexo='F'\n",
        "idade=58\n",
        "\n",
        "if(sexo == 'F' and idade >=55): print('Pode se aposentar')\n",
        "elif(sexo=='M' and idade >=60): print('Não pode se aposentar')\n",
        "else: print('Ainda não pode se aposentar')\n",
        "\n",
        "\n"
      ],
      "metadata": {
        "colab": {
          "base_uri": "https://localhost:8080/"
        },
        "id": "HVFswybtqbnE",
        "outputId": "dc82c01a-0bfd-415d-91e9-52aac91cc0ac"
      },
      "execution_count": 25,
      "outputs": [
        {
          "output_type": "stream",
          "name": "stdout",
          "text": [
            "Pode se aposentar\n"
          ]
        }
      ]
    },
    {
      "cell_type": "code",
      "source": [
        "sexo=input('sexo  F or M : ')\n",
        "idade=int(input('idade :  '))\n",
        "\n",
        "if((sexo == 'F' and idade >=55) or(sexo=='M' and idade >=60) ): \n",
        "  print('Pode se aposentar')\n",
        "else: print('Ainda não pode se aposentar')\n"
      ],
      "metadata": {
        "colab": {
          "base_uri": "https://localhost:8080/"
        },
        "id": "z4NUvZzAsGUq",
        "outputId": "3b2ba3b0-a252-4464-a4eb-fab256ab7ecd"
      },
      "execution_count": 34,
      "outputs": [
        {
          "output_type": "stream",
          "name": "stdout",
          "text": [
            "sexo  F or M : F\n",
            "idade :  59\n",
            "Pode se aposentar\n"
          ]
        }
      ]
    },
    {
      "cell_type": "code",
      "source": [
        "# Solicitar 3 numeros ,  \n",
        "#Imprimir se a + b é < c\n",
        "a=int(input('Digite o primeiro número : '))\n",
        "b=int(input('Digite o segundo número : '))\n",
        "c=int(input('Digite o terceiro número : '))\n",
        "\n",
        "if(a+b < c):\n",
        "  print('É MENOR')\n",
        "else: print('É MAIOR')\n"
      ],
      "metadata": {
        "id": "cR0V3Uu1v8_c"
      },
      "execution_count": null,
      "outputs": []
    },
    {
      "cell_type": "code",
      "source": [
        "a=int(input('Informe o primeiro valor :'))\n",
        "b=int(input('Informe o segundo valor :'))\n",
        "if(a > b):\n",
        "  print('O maior  valor é  a=',a)\n",
        "elif(b > a):\n",
        "  print('O maior valor é b =',b)\n",
        "elif(a==b):\n",
        "  print('Os números são iguais')"
      ],
      "metadata": {
        "id": "JF_Y5nWPxZaS"
      },
      "execution_count": null,
      "outputs": []
    },
    {
      "cell_type": "code",
      "source": [],
      "metadata": {
        "id": "3-JNwbYS5UVt"
      },
      "execution_count": null,
      "outputs": []
    }
  ]
}