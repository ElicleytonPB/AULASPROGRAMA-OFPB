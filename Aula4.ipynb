{
  "nbformat": 4,
  "nbformat_minor": 0,
  "metadata": {
    "colab": {
      "provenance": [],
      "authorship_tag": "ABX9TyPlpqAES4unxbPcoWfp4iW6",
      "include_colab_link": true
    },
    "kernelspec": {
      "name": "python3",
      "display_name": "Python 3"
    },
    "language_info": {
      "name": "python"
    }
  },
  "cells": [
    {
      "cell_type": "markdown",
      "metadata": {
        "id": "view-in-github",
        "colab_type": "text"
      },
      "source": [
        "<a href=\"https://colab.research.google.com/github/ElicleytonPB/AULASPROGRAMA-OFPB/blob/main/Aula4.ipynb\" target=\"_parent\"><img src=\"https://colab.research.google.com/assets/colab-badge.svg\" alt=\"Open In Colab\"/></a>"
      ]
    },
    {
      "cell_type": "code",
      "source": [
        "#ESTRUTURAS DE DADOS : COLEÇÕES EM PYTHON\n",
        "#** LINGUAGEM DE MAQUINA OU ASSEMBLY > ALTO NÍVEL : 1 C (- 2 JAVA / PYTHON / LISTA>TUPLA>DICIONÁRIO ( JSON) >CONJUNTOS ( SET)\n",
        "# MAP E FILTER ( ITÉRAVEL + ALGUMA COISA QUE PODE REALIZAR ITEREÇÃO SOBRE ELA = IR LÁ E VOLTAR =)"
      ],
      "metadata": {
        "id": "FvSrhBHX02YL"
      },
      "execution_count": null,
      "outputs": []
    },
    {
      "cell_type": "code",
      "source": [
        "#OPERAÇÕES COM LISTA \n",
        "#EXTEND() JOGA VARIOS ELEMENTOS NA LISTA\n",
        "nomes = [\"ze\",\"tião\",\"joão\"]\n",
        "nomes.append(\"Julia\")\n",
        "nomes\n",
        "\n"
      ],
      "metadata": {
        "colab": {
          "base_uri": "https://localhost:8080/"
        },
        "id": "BOraTdcc6K_1",
        "outputId": "64d59c75-2a46-4aee-984d-92a5bf0d192f"
      },
      "execution_count": 4,
      "outputs": [
        {
          "output_type": "execute_result",
          "data": {
            "text/plain": [
              "['ze', 'tião', 'joão', 'Julia']"
            ]
          },
          "metadata": {},
          "execution_count": 4
        }
      ]
    },
    {
      "cell_type": "code",
      "source": [
        "nome = [\"bruna\",\"kely\",\"gerilda\"]\n",
        "nomes.extend(nome)\n",
        "nomes"
      ],
      "metadata": {
        "colab": {
          "base_uri": "https://localhost:8080/"
        },
        "id": "MPpv_dHM7rrb",
        "outputId": "60b17fa2-fad6-41c3-f564-823f57366183"
      },
      "execution_count": 8,
      "outputs": [
        {
          "output_type": "execute_result",
          "data": {
            "text/plain": [
              "['ze', 'tião', 'joão', 'ze', 'tião', 'joão', 'bruna', 'kely', 'gerilda']"
            ]
          },
          "metadata": {},
          "execution_count": 8
        }
      ]
    },
    {
      "cell_type": "code",
      "source": [
        "numero = [ 1,2,5,9,8,7,4,55,66,988,9,10,18,52,45]\n",
        "numero.remove(numero[0])\n",
        "numero.pop()\n",
        "numero"
      ],
      "metadata": {
        "colab": {
          "base_uri": "https://localhost:8080/"
        },
        "id": "dk92n7Ne8A6h",
        "outputId": "a7906043-17f2-4b95-b43a-36df9c55f75d"
      },
      "execution_count": 16,
      "outputs": [
        {
          "output_type": "execute_result",
          "data": {
            "text/plain": [
              "[2, 5, 9, 8, 7, 4, 55, 66, 988, 9, 10, 18, 52]"
            ]
          },
          "metadata": {},
          "execution_count": 16
        }
      ]
    },
    {
      "cell_type": "code",
      "source": [
        "#ordenação de elementos\n",
        "notas=[2,2,3,4,5,8,5,9,10,7,8,3,4,6]\n",
        "notas.sort()\n",
        "notas"
      ],
      "metadata": {
        "colab": {
          "base_uri": "https://localhost:8080/"
        },
        "id": "amTMdi_9-cFP",
        "outputId": "23917cab-3022-4816-d851-11061bfacdcf"
      },
      "execution_count": 17,
      "outputs": [
        {
          "output_type": "execute_result",
          "data": {
            "text/plain": [
              "[2, 2, 3, 3, 4, 4, 5, 5, 6, 7, 8, 8, 9, 10]"
            ]
          },
          "metadata": {},
          "execution_count": 17
        }
      ]
    },
    {
      "cell_type": "code",
      "source": [
        "nomes = [\"ademar\",\"camila\",\"luis\",\"joão\",\"cleyton\",\"zaira\"]\n",
        "nomes.sort()\n",
        "nomes"
      ],
      "metadata": {
        "colab": {
          "base_uri": "https://localhost:8080/"
        },
        "id": "vpebqRDi_xM2",
        "outputId": "25ce6a29-6b0b-4767-9233-05f28b4fff10"
      },
      "execution_count": 18,
      "outputs": [
        {
          "output_type": "execute_result",
          "data": {
            "text/plain": [
              "['ademar', 'camila', 'cleyton', 'joão', 'luis', 'zaira']"
            ]
          },
          "metadata": {},
          "execution_count": 18
        }
      ]
    },
    {
      "cell_type": "code",
      "source": [
        "notas=[2,2,3,4,5,8,5,9,10,7,8,3,4,6]\n",
        "notas.sort(reverse=True)\n",
        "notas"
      ],
      "metadata": {
        "colab": {
          "base_uri": "https://localhost:8080/"
        },
        "id": "GF5RWORFAFJB",
        "outputId": "95a24f79-98be-46bb-9c5f-831ceceba93e"
      },
      "execution_count": 19,
      "outputs": [
        {
          "output_type": "execute_result",
          "data": {
            "text/plain": [
              "[10, 9, 8, 8, 7, 6, 5, 5, 4, 4, 3, 3, 2, 2]"
            ]
          },
          "metadata": {},
          "execution_count": 19
        }
      ]
    },
    {
      "cell_type": "code",
      "source": [
        "#   map = lista de dados e alterar todos os elementos com a mesma regra usar map, adicionar ponto em notas de todos:    MAP(FUNCAO,SEQUENCIAL)\n",
        "numeros=[2,4,8,5,2,7,5,6]\n",
        "novalista=list(map(lambda x : x*2, numeros))\n",
        "novalista\n",
        "\n",
        "# filter = PARA  MUDAR ALGO ESPECIFICOl\n",
        "\n",
        "\n",
        "\n",
        "\n",
        "\n"
      ],
      "metadata": {
        "colab": {
          "base_uri": "https://localhost:8080/"
        },
        "id": "N7YJt89MA2UN",
        "outputId": "f81452f9-690c-49a9-8deb-8409491d76a0"
      },
      "execution_count": 23,
      "outputs": [
        {
          "output_type": "execute_result",
          "data": {
            "text/plain": [
              "[4, 8, 16, 10, 4, 14, 10, 12]"
            ]
          },
          "metadata": {},
          "execution_count": 23
        }
      ]
    },
    {
      "cell_type": "code",
      "source": [
        "numeros=[2,4,8,5,2,7,5,6]\n",
        "novalista=list(map(lambda x : x/3, numeros))\n",
        "novalista"
      ],
      "metadata": {
        "colab": {
          "base_uri": "https://localhost:8080/"
        },
        "id": "HlHtDLXoDRHE",
        "outputId": "a49ec8fe-19fe-4a17-ade2-03984edd8c6d"
      },
      "execution_count": 24,
      "outputs": [
        {
          "output_type": "execute_result",
          "data": {
            "text/plain": [
              "[0.6666666666666666,\n",
              " 1.3333333333333333,\n",
              " 2.6666666666666665,\n",
              " 1.6666666666666667,\n",
              " 0.6666666666666666,\n",
              " 2.3333333333333335,\n",
              " 1.6666666666666667,\n",
              " 2.0]"
            ]
          },
          "metadata": {},
          "execution_count": 24
        }
      ]
    },
    {
      "cell_type": "code",
      "source": [
        "numeros=[1,2,5,98,87,6,5,856,5,6,2,5,2,85,8]\n",
        "novalista=list(map(lambda x : x+2, numeros))\n",
        "novalista"
      ],
      "metadata": {
        "colab": {
          "base_uri": "https://localhost:8080/"
        },
        "id": "U6SYfP7gEFXf",
        "outputId": "aea71b86-d8bb-4300-842a-bcba52030d49"
      },
      "execution_count": 28,
      "outputs": [
        {
          "output_type": "execute_result",
          "data": {
            "text/plain": [
              "[3, 4, 7, 100, 89, 8, 7, 858, 7, 8, 4, 7, 4, 87, 10]"
            ]
          },
          "metadata": {},
          "execution_count": 28
        }
      ]
    },
    {
      "cell_type": "code",
      "source": [
        "nomes=['josé','joaquim','andre','bruno','cleyton','eli','rafaela','zaira','ásafe']\n",
        "newlist=list(filter(lambda x : len(x)>6 , nomes))\n",
        "newlist"
      ],
      "metadata": {
        "colab": {
          "base_uri": "https://localhost:8080/"
        },
        "id": "7q5ahfiGExC8",
        "outputId": "8360717e-0835-4bdf-a768-570cc25b1fc5"
      },
      "execution_count": 32,
      "outputs": [
        {
          "output_type": "execute_result",
          "data": {
            "text/plain": [
              "['joaquim', 'cleyton', 'rafaela']"
            ]
          },
          "metadata": {},
          "execution_count": 32
        }
      ]
    },
    {
      "cell_type": "code",
      "source": [
        "notas=[2,5,6,7,8,4,5,6,9,5,2,4,5,10,10,9,10,8,7,4,5,2,3,6,3,2,5,4,2,10]\n",
        "newnotas=list(filter(lambda x :x>6,notas))\n",
        "newnotas"
      ],
      "metadata": {
        "colab": {
          "base_uri": "https://localhost:8080/"
        },
        "id": "whVHbqlGF87m",
        "outputId": "6f0da505-3ee8-4bad-d74c-bd14b1b964f8"
      },
      "execution_count": 36,
      "outputs": [
        {
          "output_type": "execute_result",
          "data": {
            "text/plain": [
              "[7, 8, 9, 10, 10, 9, 10, 8, 7, 10]"
            ]
          },
          "metadata": {},
          "execution_count": 36
        }
      ]
    },
    {
      "cell_type": "code",
      "source": [
        "lista=[2,5,8,7,6,9,55,22,3,66,44,88,66]\n",
        "newlista=list(map(lambda x : x**2,lista))\n",
        "newlista"
      ],
      "metadata": {
        "colab": {
          "base_uri": "https://localhost:8080/"
        },
        "id": "ltdIF3HjIa5r",
        "outputId": "43b3fe6d-ae1b-4fc2-bb3c-9043e7e0b154"
      },
      "execution_count": 38,
      "outputs": [
        {
          "output_type": "execute_result",
          "data": {
            "text/plain": [
              "[4, 25, 64, 49, 36, 81, 3025, 484, 9, 4356, 1936, 7744, 4356]"
            ]
          },
          "metadata": {},
          "execution_count": 38
        }
      ]
    },
    {
      "cell_type": "code",
      "source": [
        "nome=['cleyton','kely','zaira','ásafe','elias','gerilda','gabriel']\n",
        "nomelist=list(map(lambda x : len (x),nome))\n",
        "nomelist"
      ],
      "metadata": {
        "colab": {
          "base_uri": "https://localhost:8080/"
        },
        "id": "tlbjAuenIwDM",
        "outputId": "fc3e32eb-414d-4045-8cd2-34a72ecdec2c"
      },
      "execution_count": 39,
      "outputs": [
        {
          "output_type": "execute_result",
          "data": {
            "text/plain": [
              "[7, 4, 5, 5, 5, 7, 7]"
            ]
          },
          "metadata": {},
          "execution_count": 39
        }
      ]
    },
    {
      "cell_type": "code",
      "source": [
        "numero=[2,564,5,685,76,46,35,6,746,7,97,9,496,46,4,6,461,87,97,94,9,49,46,46,13,1,31,64,6,56,746,4]\n",
        "par=list(filter(lambda x : (x%2 == 0)  , numero))\n",
        "par"
      ],
      "metadata": {
        "colab": {
          "base_uri": "https://localhost:8080/"
        },
        "id": "3zq1QNJ7JPqX",
        "outputId": "7c85c54a-30ba-4741-a81c-3ba8cc3deab6"
      },
      "execution_count": 51,
      "outputs": [
        {
          "output_type": "execute_result",
          "data": {
            "text/plain": [
              "[2, 564, 76, 46, 6, 746, 496, 46, 4, 6, 94, 46, 46, 64, 6, 56, 746, 4]"
            ]
          },
          "metadata": {},
          "execution_count": 51
        }
      ]
    },
    {
      "cell_type": "code",
      "source": [
        "nome=['cleyton','kely','zaira','ásafe','elias','gerilda','gabriel','andre','antigão','ana']\n",
        "name=list(filter(lambda x :(x[0])=='a',nome))\n",
        "name\n"
      ],
      "metadata": {
        "colab": {
          "base_uri": "https://localhost:8080/"
        },
        "id": "XwhR9TnTK2q5",
        "outputId": "25001f43-2ce3-4ebf-b9d3-228e521cd5a6"
      },
      "execution_count": 56,
      "outputs": [
        {
          "output_type": "execute_result",
          "data": {
            "text/plain": [
              "['andre', 'antigão', 'ana']"
            ]
          },
          "metadata": {},
          "execution_count": 56
        }
      ]
    },
    {
      "cell_type": "code",
      "source": [
        "notas=[4,5,4,6,8,9,7,6,8,7,2,1,0,9,8,7,5,6,2,5,49,6,5,56,6,4,8,4,4,95,64,4,6,4,8,8]\n",
        "aprovado=list(filter(lambda x : x > 7,notas))\n",
        "print('Aprovados :',aprovado)"
      ],
      "metadata": {
        "colab": {
          "base_uri": "https://localhost:8080/"
        },
        "id": "vQNJMT_kLyRZ",
        "outputId": "3fbae4c8-127c-4ac5-8cab-abc16fd55134"
      },
      "execution_count": 69,
      "outputs": [
        {
          "output_type": "stream",
          "name": "stdout",
          "text": [
            "Aprovados : [8, 9, 8, 9, 8, 49, 56, 8, 95, 64, 8, 8]\n"
          ]
        }
      ]
    }
  ]
}