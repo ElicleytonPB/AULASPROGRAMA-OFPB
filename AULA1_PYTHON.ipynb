{
  "nbformat": 4,
  "nbformat_minor": 0,
  "metadata": {
    "colab": {
      "provenance": [],
      "authorship_tag": "ABX9TyMt5klIvnt4dqNGZUvOddfp",
      "include_colab_link": true
    },
    "kernelspec": {
      "name": "python3",
      "display_name": "Python 3"
    },
    "language_info": {
      "name": "python"
    }
  },
  "cells": [
    {
      "cell_type": "markdown",
      "metadata": {
        "id": "view-in-github",
        "colab_type": "text"
      },
      "source": [
        "<a href=\"https://colab.research.google.com/github/ElicleytonPB/AULASPROGRAMA-OFPB/blob/main/AULA1_PYTHON.ipynb\" target=\"_parent\"><img src=\"https://colab.research.google.com/assets/colab-badge.svg\" alt=\"Open In Colab\"/></a>"
      ]
    },
    {
      "cell_type": "code",
      "execution_count": null,
      "metadata": {
        "id": "B-Bh9koZuU2l"
      },
      "outputs": [],
      "source": []
    },
    {
      "cell_type": "markdown",
      "source": [
        "Primeiro Python\n"
      ],
      "metadata": {
        "id": "St5bRMi5vl-X"
      }
    },
    {
      "cell_type": "code",
      "source": [
        "print(\"eu vou programar, geral!\")"
      ],
      "metadata": {
        "id": "67NBeNMGvpkW"
      },
      "execution_count": null,
      "outputs": []
    },
    {
      "cell_type": "markdown",
      "source": [
        "pyton não tem ;"
      ],
      "metadata": {
        "id": "OBKLpnTUwDJV"
      }
    },
    {
      "cell_type": "code",
      "source": [
        "#Variáveis\n",
        "nome = \" Elicleyton \"\n",
        "print(nome)"
      ],
      "metadata": {
        "id": "HkgVlEVlwFSM"
      },
      "execution_count": null,
      "outputs": []
    },
    {
      "cell_type": "code",
      "source": [
        "#Operações com variáveis\n",
        "a=20\n",
        "b=35\n",
        "soma = a+b\n",
        "subtracao = a-b\n",
        "divisao = a/b\n",
        "multipli = a*b"
      ],
      "metadata": {
        "id": "-ynx7jxwwzGQ"
      },
      "execution_count": 6,
      "outputs": []
    },
    {
      "cell_type": "code",
      "source": [
        "print ( soma,subtracao,divisao,multipli)\n",
        "print ( subtracao )\n",
        "print(divisao)\n",
        "print(multipli)\n"
      ],
      "metadata": {
        "id": "P0Ez6EslxMNc"
      },
      "execution_count": null,
      "outputs": []
    },
    {
      "cell_type": "code",
      "source": [],
      "metadata": {
        "id": "Y1RH7G4kyD_S"
      },
      "execution_count": null,
      "outputs": []
    },
    {
      "cell_type": "markdown",
      "source": [
        "1. pega o numero de uma variável, e devolve o dobro.\n",
        "2. lê 3 notas e devolve a média.\n",
        "3. pede o ano de nascimento da pessoa e calcula a idade atual dela."
      ],
      "metadata": {
        "id": "jZT5xR15yHER"
      }
    },
    {
      "cell_type": "code",
      "source": [
        "a = 35\n",
        "multipli= a*2\n",
        "print(multipli)"
      ],
      "metadata": {
        "colab": {
          "base_uri": "https://localhost:8080/"
        },
        "id": "0s6hptZuyWHK",
        "outputId": "934974af-c191-4d0f-ffde-c095528f4edd"
      },
      "execution_count": 10,
      "outputs": [
        {
          "output_type": "stream",
          "name": "stdout",
          "text": [
            "70\n"
          ]
        }
      ]
    },
    {
      "cell_type": "code",
      "source": [
        "a = 8\n",
        "b = 6.9\n",
        "c = 6.099\n",
        "soma = (a + b + c) / 3\n",
        "\n",
        "\n",
        "print(soma)\n"
      ],
      "metadata": {
        "colab": {
          "base_uri": "https://localhost:8080/"
        },
        "id": "N6TOCDCMyv2D",
        "outputId": "67e3e7cd-acb4-4444-8244-f90433fb4c5e"
      },
      "execution_count": 34,
      "outputs": [
        {
          "output_type": "stream",
          "name": "stdout",
          "text": [
            "6.999666666666667\n"
          ]
        }
      ]
    },
    {
      "cell_type": "code",
      "source": [
        "\n",
        "anonasce = 1988\n",
        "anoatual  =  2023\n",
        "subtração = (anonasce - anoatual) * -1\n",
        "print ( subtração )"
      ],
      "metadata": {
        "id": "YO9xLdamz9k-"
      },
      "execution_count": null,
      "outputs": []
    },
    {
      "cell_type": "code",
      "source": [
        "#tralhando input\n",
        "nome=input('digite seu nome')\n",
        "print('olá'+nome)"
      ],
      "metadata": {
        "id": "r1VjXpru2Lc3"
      },
      "execution_count": null,
      "outputs": []
    },
    {
      "cell_type": "code",
      "source": [
        "#parse \n",
        "num = int(input('Digita ai '))\n",
        "print(num*3)"
      ],
      "metadata": {
        "colab": {
          "base_uri": "https://localhost:8080/"
        },
        "id": "qcIWrRVB5VeI",
        "outputId": "ab5224ce-1f25-4a7b-b134-c2f83b168ee0"
      },
      "execution_count": 52,
      "outputs": [
        {
          "output_type": "stream",
          "name": "stdout",
          "text": [
            "Digita ai 54\n",
            "162\n"
          ]
        }
      ]
    }
  ]
}