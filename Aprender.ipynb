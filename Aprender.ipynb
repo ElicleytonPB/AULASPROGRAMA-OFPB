{
  "nbformat": 4,
  "nbformat_minor": 0,
  "metadata": {
    "colab": {
      "provenance": [],
      "authorship_tag": "ABX9TyMGGhLZvb5Q5KiGG9kJFlRU",
      "include_colab_link": true
    },
    "kernelspec": {
      "name": "python3",
      "display_name": "Python 3"
    },
    "language_info": {
      "name": "python"
    }
  },
  "cells": [
    {
      "cell_type": "markdown",
      "metadata": {
        "id": "view-in-github",
        "colab_type": "text"
      },
      "source": [
        "<a href=\"https://colab.research.google.com/github/ElicleytonPB/AULASPROGRAMA-OFPB/blob/main/Aprender.ipynb\" target=\"_parent\"><img src=\"https://colab.research.google.com/assets/colab-badge.svg\" alt=\"Open In Colab\"/></a>"
      ]
    },
    {
      "cell_type": "code",
      "execution_count": null,
      "metadata": {
        "colab": {
          "base_uri": "https://localhost:8080/"
        },
        "id": "JCGCZ7ZYrjM4",
        "outputId": "6390a202-5ae4-4436-e0f7-2be3912e703b"
      },
      "outputs": [
        {
          "output_type": "stream",
          "name": "stdout",
          "text": [
            "Hello world\n"
          ]
        }
      ],
      "source": [
        "print('Hello world')"
      ]
    },
    {
      "cell_type": "code",
      "source": [
        "objetos = ['faca','casa','tatu','piranha','vaca']"
      ],
      "metadata": {
        "id": "MShrgds_sVJD"
      },
      "execution_count": null,
      "outputs": []
    },
    {
      "cell_type": "code",
      "source": [
        "for objeto in objetos : \n",
        "  print()"
      ],
      "metadata": {
        "id": "QvS7loSVskfn"
      },
      "execution_count": null,
      "outputs": []
    },
    {
      "cell_type": "code",
      "source": [
        "numeros=[]\n",
        "for num in range(15):\n",
        "  numeros.append(num)\n",
        "\n",
        "numeros"
      ],
      "metadata": {
        "id": "ZII0V017tSbH"
      },
      "execution_count": null,
      "outputs": []
    },
    {
      "cell_type": "code",
      "source": [
        "import random"
      ],
      "metadata": {
        "id": "wbsjkPU8uvln"
      },
      "execution_count": null,
      "outputs": []
    },
    {
      "cell_type": "code",
      "source": [
        "nums2=[]\n",
        "for num in range(random.randrange(0,50)):\n",
        "  nums2.append(num)\n",
        "\n",
        "nums2"
      ],
      "metadata": {
        "id": "Lh8VoCzrwU1w"
      },
      "execution_count": null,
      "outputs": []
    },
    {
      "cell_type": "code",
      "source": [
        "a=int(input('Digite um número'))\n",
        "if a%2 == 0:\n",
        "  print('É par')\n",
        "else:\n",
        "  print('É impar')\n"
      ],
      "metadata": {
        "id": "f_W-WYyEy20K"
      },
      "execution_count": null,
      "outputs": []
    },
    {
      "cell_type": "code",
      "source": [
        "for i in range(0, 51, 2):\n",
        "    print(i)"
      ],
      "metadata": {
        "id": "sn2VTljl0_Bh"
      },
      "execution_count": null,
      "outputs": []
    },
    {
      "cell_type": "code",
      "source": [
        "soma=0\n",
        "for a in range( 0 , 101):\n",
        "  soma += a\n",
        " \n",
        "print(\"A soma dos números de 1 a 101 é :\", soma)"
      ],
      "metadata": {
        "id": "GLnFC8xJ2-ZR",
        "colab": {
          "base_uri": "https://localhost:8080/"
        },
        "outputId": "00357a5f-c0ad-4bda-ba1a-c46ddf823820"
      },
      "execution_count": 69,
      "outputs": [
        {
          "output_type": "stream",
          "name": "stdout",
          "text": [
            "A soma dos números de 1 a 101 é : 5050\n"
          ]
        }
      ]
    },
    {
      "cell_type": "code",
      "source": [
        "soma=0\n",
        "for n in range(101):\n",
        "  soma = soma+n\n",
        "soma\n"
      ],
      "metadata": {
        "colab": {
          "base_uri": "https://localhost:8080/"
        },
        "id": "rMPCAb1c6VqP",
        "outputId": "b276e11e-539a-4de9-b450-0e12993f8c2a"
      },
      "execution_count": 67,
      "outputs": [
        {
          "output_type": "execute_result",
          "data": {
            "text/plain": [
              "5050"
            ]
          },
          "metadata": {},
          "execution_count": 67
        }
      ]
    },
    {
      "cell_type": "code",
      "source": [
        "cont=0\n",
        "while(cont<10):\n",
        "   print(cont+1)\n",
        "   cont+=1"
      ],
      "metadata": {
        "id": "ZDWQEL2NzcYB"
      },
      "execution_count": null,
      "outputs": []
    },
    {
      "cell_type": "code",
      "source": [
        "cont=1\n",
        "numero=int(input('Digite um número:'))\n",
        "\n",
        "while(cont<=numero):\n",
        "  print(cont)\n",
        "  cont+=1\n"
      ],
      "metadata": {
        "id": "1kSztoBxAPAa"
      },
      "execution_count": null,
      "outputs": []
    },
    {
      "cell_type": "code",
      "source": [
        "numero = int(input(\"Digite um número inteiro maior que 1: \"))\n",
        "\n",
        "while numero <= 1:\n",
        "    numero = int(input(\"Número inválido. Digite um número inteiro maior que 1: \"))\n",
        "\n",
        "for i in range(1, numero+1):\n",
        "    print(i)"
      ],
      "metadata": {
        "id": "ppTwdUPtBgz7"
      },
      "execution_count": null,
      "outputs": []
    },
    {
      "cell_type": "code",
      "source": [
        "compraLista=[]\n",
        "\n",
        "item=input('Digite o item: ')\n",
        "\n",
        "while (item!='0'):\n",
        "  compraLista.append(item)\n",
        "  item=input('Digite o item: ')\n",
        "compraLista"
      ],
      "metadata": {
        "id": "-yYBT9i4D4aO"
      },
      "execution_count": null,
      "outputs": []
    },
    {
      "cell_type": "code",
      "source": [
        "lista_compras = []\n",
        "\n",
        "while True:\n",
        "    item = input(\"Digite um item para a lista de compras (digite 0 para encerrar): \")\n",
        "    if item == '0':\n",
        "        break\n",
        "    lista_compras.append(item)\n",
        "\n",
        "print(\"Lista de compras:\")\n",
        "for item in lista_compras:\n",
        "    print(\"- \" + item)"
      ],
      "metadata": {
        "id": "6DH_7-DgEzs_"
      },
      "execution_count": null,
      "outputs": []
    }
  ]
}