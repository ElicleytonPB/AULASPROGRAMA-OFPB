{
  "nbformat": 4,
  "nbformat_minor": 0,
  "metadata": {
    "colab": {
      "provenance": [],
      "authorship_tag": "ABX9TyPYrruXV/dNvQEm4HfSAqe8",
      "include_colab_link": true
    },
    "kernelspec": {
      "name": "python3",
      "display_name": "Python 3"
    },
    "language_info": {
      "name": "python"
    }
  },
  "cells": [
    {
      "cell_type": "markdown",
      "metadata": {
        "id": "view-in-github",
        "colab_type": "text"
      },
      "source": [
        "<a href=\"https://colab.research.google.com/github/ElicleytonPB/AULASPROGRAMA-OFPB/blob/main/Aula3.ipynb\" target=\"_parent\"><img src=\"https://colab.research.google.com/assets/colab-badge.svg\" alt=\"Open In Colab\"/></a>"
      ]
    },
    {
      "cell_type": "code",
      "source": [
        "a = 15\n",
        "b = 3\n",
        "\n",
        "print(a+b)\n",
        "print(a*b)\n",
        "print(a%b)\n"
      ],
      "metadata": {
        "id": "LNIJQaBclcgH"
      },
      "execution_count": null,
      "outputs": []
    },
    {
      "cell_type": "code",
      "source": [
        "nome = input('Digite seu nome:') #Strings\n",
        "print('Olá ,' + nome)\n"
      ],
      "metadata": {
        "id": "xwV1o8PHnAO2"
      },
      "execution_count": null,
      "outputs": []
    },
    {
      "cell_type": "code",
      "source": [
        "#CÓDIGO PARA DIZER A IDADE DO CABRA   # PARA TRANSFORMAR DE STRING PARA INT , COLOCAR DENTRO DE () OU ASSIM :\n",
        "anoNascimento=input('Digite o ano de nascimento')\n",
        "print('sua idade é ',2023 -int(anoNascimento))\n"
      ],
      "metadata": {
        "id": "2IemiIu1nlgL"
      },
      "execution_count": null,
      "outputs": []
    },
    {
      "cell_type": "code",
      "source": [
        "#Solicita a altura e o peso de alguém e retorna o imc. imc=p/h*2\n",
        "peso=float(input('Informe seu peso :'))\n",
        "altura=float(input('Informe sua altura :'))\n",
        "imc=peso/altura**2\n",
        "print('o imc é :' , round(imc,2))\n",
        "\n",
        "\n"
      ],
      "metadata": {
        "id": "pQ-VPQWSovrF"
      },
      "execution_count": null,
      "outputs": []
    },
    {
      "cell_type": "code",
      "source": [
        "#Verificações lógicas\n",
        "a=45\n",
        "b=33\n",
        "print(a>b) # true\n",
        "print(a<b) # false\n",
        "print(a==b) #false\n",
        "print(a != b) #true\n",
        "\n",
        "\n"
      ],
      "metadata": {
        "id": "ZPkCPdYEuQvt"
      },
      "execution_count": null,
      "outputs": []
    },
    {
      "cell_type": "code",
      "source": [
        "#Verificar se o número é par:\n",
        "num=int(input('digite um numero: '))\n",
        "if(num%2==0):\n",
        "  print('O número é par')\n",
        "else:\n",
        "    print('O número é impar')"
      ],
      "metadata": {
        "id": "txTjAh9YwTxC",
        "colab": {
          "base_uri": "https://localhost:8080/"
        },
        "outputId": "dc6054a7-618a-49c1-c1fd-e02d7fe1e08e"
      },
      "execution_count": 43,
      "outputs": [
        {
          "output_type": "stream",
          "name": "stdout",
          "text": [
            "digite um numero: 80\n",
            "O número é par\n"
          ]
        }
      ]
    },
    {
      "cell_type": "code",
      "source": [
        "#Em um campeonato de futebol ou MMA , tem três categorias por peso:\n",
        "#Galo  até 60kg\n",
        "#Médio até 80kg\n",
        "#Meio pesado até 90kg\n",
        "#Pesado mais de 90kg\n",
        "peso = float(input(\"Digite o peso do atleta:\"))\n",
        "if(peso<=70):\n",
        "  print('Galo')\n",
        "elif(peso<=80):\n",
        "  print('Médio')\n",
        "elif(peso<=90):\n",
        "  print('Meio Pesado')\n",
        "else:\n",
        "  print('Pesado')\n",
        "\n",
        "\n",
        "\n",
        "\n",
        "\n"
      ],
      "metadata": {
        "colab": {
          "base_uri": "https://localhost:8080/"
        },
        "id": "-GF8U4TWyYHv",
        "outputId": "74c24827-b9c9-4a66-bd7b-5cac9b801efd"
      },
      "execution_count": 48,
      "outputs": [
        {
          "output_type": "stream",
          "name": "stdout",
          "text": [
            "Digite o peso do atleta:99\n",
            "Pesado\n"
          ]
        }
      ]
    },
    {
      "cell_type": "code",
      "source": [
        "#Classificação do IMC:\n",
        "peso = float(input('Informe seu peso:'))\n",
        "altura = float(input('Informe sua altura:'))\n",
        "imc = peso/altura**2\n",
        "print('Seu IMC é :', round(imc,2))\n",
        "\n",
        "print('Classificação do IMC :')\n",
        "if(imc<=18.5):\n",
        "  print('Abaixo do peso normal.')\n",
        "elif(imc<=24.9):\n",
        "  print('Peso normal.')\n",
        "elif(imc<=29.9):\n",
        "  print('Excesso de peso.')\n",
        "elif(imc<=34.9):\n",
        "  print('Obesidade classe 1.')\n",
        "elif(imc<=39.9):\n",
        "  print('Obesidade classe 2.')\n",
        "else:\n",
        "  print('Obesidade clase 3')\n"
      ],
      "metadata": {
        "colab": {
          "base_uri": "https://localhost:8080/"
        },
        "id": "U_sR6BOr1MF4",
        "outputId": "e80ee5e7-5db9-425d-f277-8e2dcd06edf6"
      },
      "execution_count": 59,
      "outputs": [
        {
          "output_type": "stream",
          "name": "stdout",
          "text": [
            "Informe seu peso:75\n",
            "Informe sua altura:1.50\n",
            "Seu IMC é : 33.33\n",
            "Classificação do IMC :\n",
            "Obesidade classe 1.\n"
          ]
        }
      ]
    }
  ]
}