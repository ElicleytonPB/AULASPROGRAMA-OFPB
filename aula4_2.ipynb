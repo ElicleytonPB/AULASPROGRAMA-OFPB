{
  "nbformat": 4,
  "nbformat_minor": 0,
  "metadata": {
    "colab": {
      "provenance": [],
      "authorship_tag": "ABX9TyPCyB/SI6sSweL3hYLVNzkg",
      "include_colab_link": true
    },
    "kernelspec": {
      "name": "python3",
      "display_name": "Python 3"
    },
    "language_info": {
      "name": "python"
    }
  },
  "cells": [
    {
      "cell_type": "markdown",
      "metadata": {
        "id": "view-in-github",
        "colab_type": "text"
      },
      "source": [
        "<a href=\"https://colab.research.google.com/github/ElicleytonPB/AULASPROGRAMA-OFPB/blob/main/aula4_2.ipynb\" target=\"_parent\"><img src=\"https://colab.research.google.com/assets/colab-badge.svg\" alt=\"Open In Colab\"/></a>"
      ]
    },
    {
      "cell_type": "code",
      "execution_count": null,
      "metadata": {
        "id": "gHTug53l5qjB"
      },
      "outputs": [],
      "source": [
        "# LINGUAGENS FORTEMENTE TIPADAS / LINGUAGEM DE TIPAGEM DINÂNMICA \n",
        "# listas são estruturas de dados formadas por elementos de um mesmo tipo\n",
        "numeros=[33,4,5,6,23]\n",
        "print(numeros)"
      ]
    },
    {
      "cell_type": "code",
      "source": [
        "len(numeros)"
      ],
      "metadata": {
        "colab": {
          "base_uri": "https://localhost:8080/"
        },
        "id": "kX5Z5M9d72xR",
        "outputId": "7793ce29-12e7-4ce2-bc1b-5330ceb3bf2f"
      },
      "execution_count": 6,
      "outputs": [
        {
          "output_type": "execute_result",
          "data": {
            "text/plain": [
              "11"
            ]
          },
          "metadata": {},
          "execution_count": 6
        }
      ]
    },
    {
      "cell_type": "code",
      "source": [
        "#Indices( começa na posição 0)\n",
        "print(numeros[0])\n",
        "print(numeros[1])\n",
        "print(numeros[2])\n",
        "print(numeros[3])\n",
        "print(numeros[4])\n",
        "print(numeros[5])\n"
      ],
      "metadata": {
        "id": "42N4TlvQ78wP"
      },
      "execution_count": null,
      "outputs": []
    },
    {
      "cell_type": "code",
      "source": [
        "#Listas de outros tipos \n",
        "alunos=['Mariana','Luis','Higor','Enzo','Valentina']\n",
        "print(alunos)"
      ],
      "metadata": {
        "colab": {
          "base_uri": "https://localhost:8080/"
        },
        "id": "E-GE1j2o9fc5",
        "outputId": "d3be95e9-e50a-45e0-e80c-08857115d9e9"
      },
      "execution_count": 27,
      "outputs": [
        {
          "output_type": "stream",
          "name": "stdout",
          "text": [
            "['Mariana', 'Luis', 'Higor', 'Enzo', 'Valentina']\n"
          ]
        }
      ]
    },
    {
      "cell_type": "code",
      "source": [],
      "metadata": {
        "id": "zQgp2_gV_MAX"
      },
      "execution_count": null,
      "outputs": []
    },
    {
      "cell_type": "code",
      "source": [
        "#Alterar os valores de itens da lista\n",
        "alunos[3]='Ivan'\n",
        "print(alunos)"
      ],
      "metadata": {
        "colab": {
          "base_uri": "https://localhost:8080/"
        },
        "id": "bVwmAhvJ96p3",
        "outputId": "0e26a85d-46f9-41f6-ba9d-8e245efb0a75"
      },
      "execution_count": 28,
      "outputs": [
        {
          "output_type": "stream",
          "name": "stdout",
          "text": [
            "['Mariana', 'Luis', 'Higor', 'Ivan', 'Valentina']\n"
          ]
        }
      ]
    },
    {
      "cell_type": "code",
      "source": [
        "#inserir nome\n",
        "alunos.append('Eu')\n",
        "alunos"
      ],
      "metadata": {
        "colab": {
          "base_uri": "https://localhost:8080/"
        },
        "id": "q-ZbM-QF_nwr",
        "outputId": "2bfd1c78-2366-4b57-89be-329cda33a0bf"
      },
      "execution_count": 34,
      "outputs": [
        {
          "output_type": "execute_result",
          "data": {
            "text/plain": [
              "['Mariana', 'Luis', 'Higor', 'Ivan', 'Valentina', 'Alex', 'Alex', 'Alex', 'Eu']"
            ]
          },
          "metadata": {},
          "execution_count": 34
        }
      ]
    },
    {
      "cell_type": "code",
      "source": [
        "alunos.append(input('Digite o nome'))"
      ],
      "metadata": {
        "colab": {
          "base_uri": "https://localhost:8080/"
        },
        "id": "nmWV9OGZ_zAb",
        "outputId": "e8ffcc99-27ed-40ae-ab8d-f8ac1033c036"
      },
      "execution_count": 35,
      "outputs": [
        {
          "name": "stdout",
          "output_type": "stream",
          "text": [
            "Digite o nomeNois\n"
          ]
        }
      ]
    },
    {
      "cell_type": "code",
      "source": [
        "print(alunos)\n"
      ],
      "metadata": {
        "colab": {
          "base_uri": "https://localhost:8080/"
        },
        "id": "VAA-vIZI_7gi",
        "outputId": "9dd40dea-d3a3-4a77-e908-445acb899985"
      },
      "execution_count": 37,
      "outputs": [
        {
          "output_type": "stream",
          "name": "stdout",
          "text": [
            "['Mariana', 'Luis', 'Higor', 'Ivan', 'Valentina', 'Alex', 'Alex', 'Alex', 'Eu', 'Nois']\n"
          ]
        }
      ]
    },
    {
      "cell_type": "code",
      "source": [
        "#Retira o ultimo nome\n",
        "alunos.pop()\n",
        "alunos"
      ],
      "metadata": {
        "colab": {
          "base_uri": "https://localhost:8080/"
        },
        "id": "35Y_8ghYADZI",
        "outputId": "a5919a7c-60af-47cc-d8a4-2c76578309d6"
      },
      "execution_count": 39,
      "outputs": [
        {
          "output_type": "execute_result",
          "data": {
            "text/plain": [
              "['Mariana', 'Luis', 'Higor', 'Ivan', 'Valentina', 'Alex', 'Alex', 'Alex', 'Eu']"
            ]
          },
          "metadata": {},
          "execution_count": 39
        }
      ]
    },
    {
      "cell_type": "code",
      "source": [
        "#Descobrir se há um valor determinado na lista\n",
        "if 'Luiz' in alunos:\n",
        "  print('TEM')\n",
        "else:\n",
        "  print('Não')"
      ],
      "metadata": {
        "colab": {
          "base_uri": "https://localhost:8080/"
        },
        "id": "hvUu3UzvBDps",
        "outputId": "1db3103a-60e0-4c5d-ea1c-32c8eb5a9290"
      },
      "execution_count": 45,
      "outputs": [
        {
          "output_type": "stream",
          "name": "stdout",
          "text": [
            "Não\n"
          ]
        }
      ]
    }
  ]
}