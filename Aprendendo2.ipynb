{
  "nbformat": 4,
  "nbformat_minor": 0,
  "metadata": {
    "colab": {
      "provenance": [],
      "authorship_tag": "ABX9TyMliJR+dDnr4TA9La+XPPre",
      "include_colab_link": true
    },
    "kernelspec": {
      "name": "python3",
      "display_name": "Python 3"
    },
    "language_info": {
      "name": "python"
    }
  },
  "cells": [
    {
      "cell_type": "markdown",
      "metadata": {
        "id": "view-in-github",
        "colab_type": "text"
      },
      "source": [
        "<a href=\"https://colab.research.google.com/github/ElicleytonPB/AULASPROGRAMA-OFPB/blob/main/Aprendendo2.ipynb\" target=\"_parent\"><img src=\"https://colab.research.google.com/assets/colab-badge.svg\" alt=\"Open In Colab\"/></a>"
      ]
    },
    {
      "cell_type": "code",
      "source": [
        "gente=['cleyton','rafa','gabriel','deda','anne','jeus']\n",
        "len(gente)"
      ],
      "metadata": {
        "colab": {
          "base_uri": "https://localhost:8080/"
        },
        "id": "_Mzusg5hZVa2",
        "outputId": "954cde2c-7dc2-4d37-b005-5d2ca1f4d8f1"
      },
      "execution_count": 1,
      "outputs": [
        {
          "output_type": "execute_result",
          "data": {
            "text/plain": [
              "6"
            ]
          },
          "metadata": {},
          "execution_count": 1
        }
      ]
    },
    {
      "cell_type": "code",
      "source": [
        "##A estrutura de dados Lista em python aceita que você faça coleções com tipos de dados diferentes.\n",
        "#gente=['cleyton','rafa','gabriel','deda','anne','jeus',3,4,5]\n",
        "\n",
        "gente=['cleyton','rafa','gabriel','deda','anne','jesus']\n",
        "len(gente)\n",
        "print(gente[2:4])\n",
        "print(gente[0])"
      ],
      "metadata": {
        "colab": {
          "base_uri": "https://localhost:8080/"
        },
        "id": "i6L3vDlRbQMH",
        "outputId": "215208f0-9453-4827-c6cf-be19fe0c6474"
      },
      "execution_count": 5,
      "outputs": [
        {
          "output_type": "stream",
          "name": "stdout",
          "text": [
            "['gabriel', 'deda']\n",
            "cleyton\n"
          ]
        }
      ]
    },
    {
      "cell_type": "code",
      "source": [
        "#alterar valor de um item na lista\n",
        "gente=['cleyton','rafa','gabriel','deda','anne','jeus','maria','joão','marcos','tiago']\n",
        "gente[4]='santo'\n",
        "print(gente)"
      ],
      "metadata": {
        "colab": {
          "base_uri": "https://localhost:8080/"
        },
        "id": "1d2m1ZVzb0LF",
        "outputId": "a8215d69-7210-4a58-c70d-3f699988f471"
      },
      "execution_count": 9,
      "outputs": [
        {
          "output_type": "stream",
          "name": "stdout",
          "text": [
            "['cleyton', 'rafa', 'gabriel', 'deda', 'santo', 'jeus', 'maria', 'joão', 'marcos', 'tiago']\n"
          ]
        }
      ]
    },
    {
      "cell_type": "code",
      "source": [
        "#adicionar valores na lista\n",
        "gente=['cleyton','rafa','gabriel','deda','anne','jeus','maria','joão','marcos','tiago']\n",
        "gente.append('pedro')\n",
        "print(gente)"
      ],
      "metadata": {
        "colab": {
          "base_uri": "https://localhost:8080/"
        },
        "id": "wbxekA6ndffI",
        "outputId": "9d190040-b751-40a9-9742-f34f6c06098a"
      },
      "execution_count": 10,
      "outputs": [
        {
          "output_type": "stream",
          "name": "stdout",
          "text": [
            "['cleyton', 'rafa', 'gabriel', 'deda', 'anne', 'jeus', 'maria', 'joão', 'marcos', 'tiago', 'pedro']\n"
          ]
        }
      ]
    },
    {
      "cell_type": "code",
      "source": [
        "#adicionar com input\n",
        "gente=['cleyton','rafa','gabriel','deda','anne','jeus','maria','joão','marcos','tiago']\n",
        "gente.append(input('Insira um nome para adicionar na lista'))\n"
      ],
      "metadata": {
        "colab": {
          "base_uri": "https://localhost:8080/"
        },
        "id": "ENV6K47Qdt6G",
        "outputId": "88939c22-46df-423c-fdeb-87ffd9de84f3"
      },
      "execution_count": 14,
      "outputs": [
        {
          "name": "stdout",
          "output_type": "stream",
          "text": [
            "Insira um nome para adicionar na listaTimótio\n"
          ]
        }
      ]
    },
    {
      "cell_type": "code",
      "source": [
        "print(gente)"
      ],
      "metadata": {
        "colab": {
          "base_uri": "https://localhost:8080/"
        },
        "id": "rjt0jQnVeIpn",
        "outputId": "5ab1c517-8656-4153-b73b-9a15cd0b3017"
      },
      "execution_count": 16,
      "outputs": [
        {
          "output_type": "stream",
          "name": "stdout",
          "text": [
            "['cleyton', 'rafa', 'gabriel', 'deda', 'anne', 'jeus', 'maria', 'joão', 'marcos', 'tiago', 'Timótio']\n"
          ]
        }
      ]
    },
    {
      "cell_type": "code",
      "source": [
        "##Descobrir se há um valor determinado na lista, exibir sua posição na lista\n",
        "gente=['cleyton','rafa','gabriel','deda','anne','jeus','maria','joão','marcos','tiago']\n",
        "if 'gabriel' in gente:\n",
        "  print('Cabeção')\n",
        "elif 'Jesus ' in gente:\n",
        "  print('Salvador')\n",
        "elif 'Deda' in gente:\n",
        "  print('Gazela')\n",
        "else:\n",
        "  print('Ganhou')"
      ],
      "metadata": {
        "colab": {
          "base_uri": "https://localhost:8080/"
        },
        "id": "RELVxxAReQzK",
        "outputId": "5061c6d8-418d-4ca7-a8b3-937c22df867a"
      },
      "execution_count": 26,
      "outputs": [
        {
          "output_type": "stream",
          "name": "stdout",
          "text": [
            "Salvador\n"
          ]
        }
      ]
    },
    {
      "cell_type": "code",
      "source": [
        "gente=['cleyton','rafa','gabriel','deda','anne','jeus','maria','joão','marcos','tiago']\n",
        "nome=input('Digite um nome')\n",
        "if nome in gente:\n",
        "  print('Há o nome , ' , nome)\n",
        "else:\n",
        "  print('Não há o nome ,' , nome)"
      ],
      "metadata": {
        "colab": {
          "base_uri": "https://localhost:8080/"
        },
        "id": "D3MyFmGjgiGn",
        "outputId": "91cd3230-0c49-44ed-dd21-cb640399cfc4"
      },
      "execution_count": 29,
      "outputs": [
        {
          "output_type": "stream",
          "name": "stdout",
          "text": [
            "Digite um nomeseverina\n",
            "Não há o nome , severina\n"
          ]
        }
      ]
    },
    {
      "cell_type": "code",
      "source": [
        "#eliminar o ultimo elemento da list\n",
        "gente=['cleyton','rafa','gabriel','deda','anne','jeus','maria','joão','marcos','tiago']\n",
        "gente.pop(2)#ao colocar um número vai tirar a quantidade indicada\n",
        "print(gente)"
      ],
      "metadata": {
        "colab": {
          "base_uri": "https://localhost:8080/"
        },
        "id": "YtBREqVwhKS3",
        "outputId": "be801f7f-d2b9-4cfe-8f1a-08b715f4b597"
      },
      "execution_count": 32,
      "outputs": [
        {
          "output_type": "stream",
          "name": "stdout",
          "text": [
            "['cleyton', 'rafa', 'deda', 'anne', 'jeus', 'maria', 'joão', 'marcos', 'tiago']\n"
          ]
        }
      ]
    },
    {
      "cell_type": "code",
      "source": [
        "#deletar um item especifico \n",
        "gente=['cleyton','rafa','gabriel','deda','anne','jeus','maria','joão','marcos','tiago']\n",
        "del gente[4]\n",
        "print(gente)"
      ],
      "metadata": {
        "colab": {
          "base_uri": "https://localhost:8080/"
        },
        "id": "Bw-rvF16hLkF",
        "outputId": "e5002186-011c-497e-f1c7-e93112384d8b"
      },
      "execution_count": 34,
      "outputs": [
        {
          "output_type": "stream",
          "name": "stdout",
          "text": [
            "['cleyton', 'rafa', 'gabriel', 'deda', 'jeus', 'maria', 'joão', 'marcos', 'tiago']\n"
          ]
        }
      ]
    },
    {
      "cell_type": "code",
      "source": [
        "atore=['rafa','cleyton','zaira','ásafe','ruama']\n",
        "nome=input('Digite um nome : ')\n",
        "if nome in atore:\n",
        "  print('Existe o nome ,' , nome)\n",
        "else:\n",
        "  print('Não existe o nome, ' , nome)"
      ],
      "metadata": {
        "colab": {
          "base_uri": "https://localhost:8080/"
        },
        "id": "A6M6O3guisC7",
        "outputId": "159cce2f-d14e-486c-b2bb-842ad083df68"
      },
      "execution_count": 39,
      "outputs": [
        {
          "output_type": "stream",
          "name": "stdout",
          "text": [
            "Digite um nome : zz\n",
            "Não existe o nome,  zz\n"
          ]
        }
      ]
    },
    {
      "cell_type": "code",
      "source": [
        "#conferir nome na lista e remover nome conferido\n",
        "atore=['rafa','cleyton','zaira','ásafe','ruama']\n",
        "nome=input('Digite um nome : ')\n",
        "if nome in atore:\n",
        "  atore.remove(nome)\n",
        "  print('Existe o nome ,' , nome)\n",
        "else:\n",
        "  print('Não existe o nome, ' , nome)\n",
        "print(atore)"
      ],
      "metadata": {
        "colab": {
          "base_uri": "https://localhost:8080/"
        },
        "id": "f65rYF2ujipv",
        "outputId": "ce89516f-9d1e-4727-f8da-9921d85578b0"
      },
      "execution_count": 45,
      "outputs": [
        {
          "output_type": "stream",
          "name": "stdout",
          "text": [
            "Digite um nome : rafa\n",
            "Existe o nome , rafa\n",
            "['cleyton', 'zaira', 'ásafe', 'ruama']\n"
          ]
        }
      ]
    },
    {
      "cell_type": "code",
      "source": [
        "#laço for\n",
        "obj=['faca','bandeja','copo','prato','colher','mesa','relógio']\n",
        "for x in obj:\n",
        "  print(x)\n",
        "len(obj)"
      ],
      "metadata": {
        "colab": {
          "base_uri": "https://localhost:8080/"
        },
        "id": "ezMCmPsrmgeg",
        "outputId": "14c3f09a-7566-4d1e-beb8-81b89780a25d"
      },
      "execution_count": 1,
      "outputs": [
        {
          "output_type": "stream",
          "name": "stdout",
          "text": [
            "faca\n",
            "bandeja\n",
            "copo\n",
            "prato\n",
            "colher\n",
            "mesa\n",
            "relógio\n"
          ]
        },
        {
          "output_type": "execute_result",
          "data": {
            "text/plain": [
              "7"
            ]
          },
          "metadata": {},
          "execution_count": 1
        }
      ]
    },
    {
      "cell_type": "code",
      "source": [
        "numeros=[]\n",
        "for num in range(15):\n",
        " numeros.append(num)\n",
        "numeros"
      ],
      "metadata": {
        "colab": {
          "base_uri": "https://localhost:8080/"
        },
        "id": "RMWdfbieJXJB",
        "outputId": "98215613-b2fd-4e15-845e-d0ece999080f"
      },
      "execution_count": 3,
      "outputs": [
        {
          "output_type": "execute_result",
          "data": {
            "text/plain": [
              "[0, 1, 2, 3, 4, 5, 6, 7, 8, 9, 10, 11, 12, 13, 14]"
            ]
          },
          "metadata": {},
          "execution_count": 3
        }
      ]
    },
    {
      "cell_type": "code",
      "source": [
        "import random\n",
        "num=[]\n",
        "for n in range(random.randrange(0,25)):\n",
        "  num.append(n)\n",
        "num"
      ],
      "metadata": {
        "colab": {
          "base_uri": "https://localhost:8080/"
        },
        "id": "jmZ58jP5L8Uq",
        "outputId": "7fb43670-b737-44bf-b737-7137dfcd50f5"
      },
      "execution_count": 9,
      "outputs": [
        {
          "output_type": "execute_result",
          "data": {
            "text/plain": [
              "[0, 1, 2, 3, 4, 5, 6, 7, 8, 9, 10, 11, 12, 13]"
            ]
          },
          "metadata": {},
          "execution_count": 9
        }
      ]
    },
    {
      "cell_type": "code",
      "source": [
        "a=random.randrange(95,100)\n",
        "a"
      ],
      "metadata": {
        "colab": {
          "base_uri": "https://localhost:8080/"
        },
        "id": "WRtzT9jPNRPO",
        "outputId": "e03c163c-b315-4264-ce2a-d0366bf87f96"
      },
      "execution_count": 25,
      "outputs": [
        {
          "output_type": "execute_result",
          "data": {
            "text/plain": [
              "97"
            ]
          },
          "metadata": {},
          "execution_count": 25
        }
      ]
    },
    {
      "cell_type": "code",
      "source": [
        "num=int(input('Digite um número para saber se é par ou multiplo de 3 ou multiplo de 5'))\n",
        "\n",
        "if (num % 2 == 0 and num % 3 == 0):\n",
        "  print('Número par e multiplo de 3')\n",
        "elif (num % 5 == 0 and num % 2 != 0 ):\n",
        "  print('Multiplo de 5 e impar')\n",
        "else:\n",
        "  print('Nada')\n"
      ],
      "metadata": {
        "colab": {
          "base_uri": "https://localhost:8080/"
        },
        "id": "417lu8AfNqlB",
        "outputId": "1ae71d6e-7980-44cc-dd4b-d6a2f1d73fad"
      },
      "execution_count": 37,
      "outputs": [
        {
          "output_type": "stream",
          "name": "stdout",
          "text": [
            "Digite um número para saber se é par ou multiplo de 3 ou multiplo de 530\n",
            "Número par e multiplo de 3\n"
          ]
        }
      ]
    },
    {
      "cell_type": "code",
      "source": [
        "numpares=[]\n",
        "for n in range(51):\n",
        "  if(n % 2 == 0 ):\n",
        "    numpares.append(n)\n",
        "numpares"
      ],
      "metadata": {
        "colab": {
          "base_uri": "https://localhost:8080/"
        },
        "id": "zanGOpDQQgWv",
        "outputId": "77f95b85-274c-4c68-a268-3a3d6184edba"
      },
      "execution_count": 43,
      "outputs": [
        {
          "output_type": "execute_result",
          "data": {
            "text/plain": [
              "[0,\n",
              " 2,\n",
              " 4,\n",
              " 6,\n",
              " 8,\n",
              " 10,\n",
              " 12,\n",
              " 14,\n",
              " 16,\n",
              " 18,\n",
              " 20,\n",
              " 22,\n",
              " 24,\n",
              " 26,\n",
              " 28,\n",
              " 30,\n",
              " 32,\n",
              " 34,\n",
              " 36,\n",
              " 38,\n",
              " 40,\n",
              " 42,\n",
              " 44,\n",
              " 46,\n",
              " 48,\n",
              " 50]"
            ]
          },
          "metadata": {},
          "execution_count": 43
        }
      ]
    },
    {
      "cell_type": "code",
      "source": [
        "for num in numeros:\n",
        "  if num % 2 == 0:\n",
        "    print(num)"
      ],
      "metadata": {
        "colab": {
          "base_uri": "https://localhost:8080/"
        },
        "id": "V7ONZUlGSLGe",
        "outputId": "8495b364-d5c2-4b76-ef97-b6684592902a"
      },
      "execution_count": 44,
      "outputs": [
        {
          "output_type": "stream",
          "name": "stdout",
          "text": [
            "0\n",
            "2\n",
            "4\n",
            "6\n",
            "8\n",
            "10\n",
            "12\n",
            "14\n"
          ]
        }
      ]
    },
    {
      "cell_type": "code",
      "source": [
        "dobro=[]\n",
        "for num in numeros:\n",
        "  dobro.append(num*2)\n",
        "dobro"
      ],
      "metadata": {
        "colab": {
          "base_uri": "https://localhost:8080/"
        },
        "id": "6FIvKmqZSjUx",
        "outputId": "663b1dfe-fe7a-4c6f-eaac-e74d526615cf"
      },
      "execution_count": 45,
      "outputs": [
        {
          "output_type": "execute_result",
          "data": {
            "text/plain": [
              "[0, 2, 4, 6, 8, 10, 12, 14, 16, 18, 20, 22, 24, 26, 28]"
            ]
          },
          "metadata": {},
          "execution_count": 45
        }
      ]
    },
    {
      "cell_type": "code",
      "source": [
        "triplo=[]\n",
        "for num in numeros:\n",
        "  triplo.append(num*3)\n",
        "triplo\n"
      ],
      "metadata": {
        "colab": {
          "base_uri": "https://localhost:8080/"
        },
        "id": "bSLu0XQ-S1xC",
        "outputId": "523d6513-1790-41f8-f4ab-e311d9400ffd"
      },
      "execution_count": 48,
      "outputs": [
        {
          "output_type": "execute_result",
          "data": {
            "text/plain": [
              "[0, 3, 6, 9, 12, 15, 18, 21, 24, 27, 30, 33, 36, 39, 42]"
            ]
          },
          "metadata": {},
          "execution_count": 48
        }
      ]
    },
    {
      "cell_type": "code",
      "source": [
        "notas = []\n",
        "for num in range(5):\n",
        " nota= int(input('Digite sua nota'))\n",
        " notas.append(nota)\n",
        "notas\n",
        "\n"
      ],
      "metadata": {
        "id": "YJDRsvqOTJnO"
      },
      "execution_count": null,
      "outputs": []
    },
    {
      "cell_type": "code",
      "source": [
        "num=0\n",
        "for n in range(101):\n",
        " num=num+n\n",
        "num"
      ],
      "metadata": {
        "colab": {
          "base_uri": "https://localhost:8080/"
        },
        "id": "tN8K4oFUUqON",
        "outputId": "1e8549b5-771e-4484-f785-fb50aaf79cd1"
      },
      "execution_count": 55,
      "outputs": [
        {
          "output_type": "execute_result",
          "data": {
            "text/plain": [
              "5050"
            ]
          },
          "metadata": {},
          "execution_count": 55
        }
      ]
    },
    {
      "cell_type": "code",
      "source": [
        "jogos=['cod','need','moh','bomba','gta']\n",
        "for jogo in jogos:\n",
        "  print(jogo)\n",
        "jogos.append(input('Digite um jogo'))\n",
        "print(jogos)\n"
      ],
      "metadata": {
        "colab": {
          "base_uri": "https://localhost:8080/"
        },
        "id": "vGLGcHgGVUBx",
        "outputId": "0092bfe9-1969-4613-bcdb-d0609a65a993"
      },
      "execution_count": 63,
      "outputs": [
        {
          "output_type": "stream",
          "name": "stdout",
          "text": [
            "cod\n",
            "need\n",
            "moh\n",
            "bomba\n",
            "gta\n",
            "Digite um jogofutebol\n",
            "['cod', 'need', 'moh', 'bomba', 'gta', 'futebol']\n"
          ]
        }
      ]
    }
  ]
}