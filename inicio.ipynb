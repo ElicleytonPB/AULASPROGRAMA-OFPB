{
  "nbformat": 4,
  "nbformat_minor": 0,
  "metadata": {
    "colab": {
      "provenance": [],
      "authorship_tag": "ABX9TyMQMSs4KE4bMQncoF5NMtss",
      "include_colab_link": true
    },
    "kernelspec": {
      "name": "python3",
      "display_name": "Python 3"
    },
    "language_info": {
      "name": "python"
    }
  },
  "cells": [
    {
      "cell_type": "markdown",
      "metadata": {
        "id": "view-in-github",
        "colab_type": "text"
      },
      "source": [
        "<a href=\"https://colab.research.google.com/github/ElicleytonPB/AULASPROGRAMA-OFPB/blob/main/inicio.ipynb\" target=\"_parent\"><img src=\"https://colab.research.google.com/assets/colab-badge.svg\" alt=\"Open In Colab\"/></a>"
      ]
    },
    {
      "cell_type": "code",
      "source": [
        "\n",
        "\n",
        "nome=input('Digite seu nome :')\n",
        "idade2=input('Digite sua idade : ')\n",
        "\n",
        "print(f'olá ,{nome} sua idade é {idade2}!')\n"
      ],
      "metadata": {
        "colab": {
          "base_uri": "https://localhost:8080/"
        },
        "id": "c4Ayg2aHaylV",
        "outputId": "e00561ec-c24c-4745-c701-d32dd61d3ffd"
      },
      "execution_count": 7,
      "outputs": [
        {
          "output_type": "stream",
          "name": "stdout",
          "text": [
            "Digite seu nome :Rafa\n",
            "Digite sua idade : 26\n",
            "olá ,Rafa sua idade é ,26\n"
          ]
        }
      ]
    },
    {
      "cell_type": "code",
      "source": [
        "peso=float(input('Digite seu peso '))\n",
        "Altura=float(input('Digite sua altura '))\n",
        "imc = peso / (Altura*Altura)\n",
        "print(f'Seu imc é : {imc:,.2f}')"
      ],
      "metadata": {
        "colab": {
          "base_uri": "https://localhost:8080/"
        },
        "id": "KdLynShVdF-9",
        "outputId": "1643e38c-2e14-45a7-a30d-db4ee9e54e28"
      },
      "execution_count": 15,
      "outputs": [
        {
          "output_type": "stream",
          "name": "stdout",
          "text": [
            "Digite seu peso 50\n",
            "Digite sua altura 1.50\n",
            "Seu imc é : 22.22\n"
          ]
        }
      ]
    },
    {
      "cell_type": "code",
      "source": [
        "print('Olá , por favor informe suas notas para calcular sua média :')\n",
        "nota=float(input('Informe a primeira nota ' ))\n",
        "nota2=float(input('Informe sua segunda nota ' ))\n",
        "nota3=float(input('Informe sua terceira nota ' ))\n",
        "res=float(nota+nota2+nota3)/3\n",
        "print('Sua média foi :',res)"
      ],
      "metadata": {
        "colab": {
          "base_uri": "https://localhost:8080/"
        },
        "id": "vCpTZuW-fwo-",
        "outputId": "7f03289d-16bd-43bd-8b86-3f905f4c726a"
      },
      "execution_count": 17,
      "outputs": [
        {
          "output_type": "stream",
          "name": "stdout",
          "text": [
            "Olá , por favor informe suas notas para calcular sua média :\n",
            "Informe a primeira nota 8\n",
            "Informe sua segunda nota 7\n",
            "Informe sua terceira nota 9\n",
            "Sua média foi : 8.0\n"
          ]
        }
      ]
    },
    {
      "cell_type": "code",
      "source": [
        "print('Por favor informe sua idade para calcularmos o ano em que você nasceu :')\n",
        "idade=int(input('Informe sua idade :'))\n",
        "ano = int(2023 - idade)\n",
        "print('Você nasceu no ano de ', ano)"
      ],
      "metadata": {
        "colab": {
          "base_uri": "https://localhost:8080/"
        },
        "id": "IOVYgRofh8Rd",
        "outputId": "fe56bb1f-48c5-4e2a-f2a0-396369971c38"
      },
      "execution_count": 22,
      "outputs": [
        {
          "output_type": "stream",
          "name": "stdout",
          "text": [
            "Por favor informe sua idade para calcularmos o ano em que você nasceu :\n",
            "Informe sua idade :27\n",
            "Você nasceu no ano de  1996\n"
          ]
        }
      ]
    },
    {
      "cell_type": "code",
      "source": [
        "idade=int(input('Informe sua idade :'))\n",
        "if (idade < 16 ):\n",
        "  print(\"Voto proibido\")\n",
        "elif (idade >=16 and idade<=17) or ( idade >=66):\n",
        "  print(\"Voto facultativo\")\n",
        "elif(idade >=18 and idade <=65):\n",
        "  print(\"Voto obrigatório\")\n",
        "print(\"Boas Eleições\")\n"
      ],
      "metadata": {
        "colab": {
          "base_uri": "https://localhost:8080/"
        },
        "id": "tfOAW0xlqHSQ",
        "outputId": "64ebce36-f360-4594-8dbe-7ef048c6ecea"
      },
      "execution_count": 69,
      "outputs": [
        {
          "output_type": "stream",
          "name": "stdout",
          "text": [
            "Informe sua idade :55\n",
            "Voto obrigatório\n",
            "Boas Eleições\n"
          ]
        }
      ]
    },
    {
      "cell_type": "code",
      "source": [
        "idade = int(input(\"Digite sua idade: \"))\n",
        "\n",
        "if idade >= 18 and idade <= 70:\n",
        "    print(\"Seu voto é obrigatório.\")\n",
        "elif idade == 16 or idade == 17 or idade > 70:\n",
        "    print(\"Seu voto é facultativo.\")\n",
        "else:\n",
        "    print(\"Você ainda não pode votar.\")\n"
      ],
      "metadata": {
        "id": "3JPu47wjzQ9x"
      },
      "execution_count": null,
      "outputs": []
    },
    {
      "cell_type": "code",
      "source": [
        "media=int(input('Informe sua média :'))\n",
        "if media >= 7 :\n",
        "  print('Aprovado')\n",
        "elif media < 7 and media >= 4 :\n",
        "  print('Recuperação')\n",
        "else:\n",
        "  print('Reprovado')"
      ],
      "metadata": {
        "colab": {
          "base_uri": "https://localhost:8080/"
        },
        "id": "g3G2FSqwzRdo",
        "outputId": "bd93884a-5ea1-4047-c90c-1b672c0500da"
      },
      "execution_count": 83,
      "outputs": [
        {
          "output_type": "stream",
          "name": "stdout",
          "text": [
            "Informe sua média :3\n",
            "Reprovado\n"
          ]
        }
      ]
    },
    {
      "cell_type": "code",
      "source": [
        "#Criar um algoritmo que a idade do atleta de judô, e siga as seguintes regras:\n",
        "#Se tiver 18 anos ou mais, \"é lutador sênior\"\n",
        "#Se tiver entre 14 anos e 18, \"é lutador juvenil\"\n",
        "#Se for menor que 14, \"é infantil\"\n",
        "\n",
        "atleta=int(input('Informe sua idade'))\n",
        "if atleta > 18 :\n",
        "  print( 'Lutador Sênior')\n",
        "elif atleta <18 and atleta >= 14 :\n",
        "  print('Lutador Juvenil ')\n",
        "else:\n",
        "  print('Lutador infantil')"
      ],
      "metadata": {
        "colab": {
          "base_uri": "https://localhost:8080/"
        },
        "id": "x7TnUcrv0tav",
        "outputId": "78da3fc4-c90b-4dab-daeb-f05abc36a76b"
      },
      "execution_count": 5,
      "outputs": [
        {
          "output_type": "stream",
          "name": "stdout",
          "text": [
            "Informe sua idade20 \n",
            "Lutador Sênior\n"
          ]
        }
      ]
    },
    {
      "cell_type": "code",
      "source": [
        "#Refaça o exemplo do IMC para as seguintes Regras:\n",
        "#Menor que 18.5 --------- Abaixo do peso normal\n",
        "#18.5 ---------------------------- 24.9 Peso normal\n",
        "#25.0 ---------------------------- 29.9 Excesso de peso\n",
        "#30.0 ---------------------------- 34.9 Obesidade classe I\n",
        "#35,0 ----------------------------- 39.9 Obesidade classe II\n",
        "#Maior ou igual a 40.0 -- Obesidade classe III\n",
        "\n",
        "print('Para calcular o seu IMC informe os seguintes dados:')\n",
        "Altura=float(input('Informe sua altura :'))\n",
        "Peso=float(input('Informe seu peso :'))\n",
        "\n",
        "imc= float(Peso / ( Altura*Altura ))\n",
        "\n",
        "if float(imc < 18.5):\n",
        "  print('Abaixo do peso normal .')\n",
        "elif float(imc >=18.5 and imc < 25 ):\n",
        "  print('Peso normal .')\n",
        "elif float(imc >= 25 and imc < 30 ):\n",
        "  print('Excesso de peso .')\n",
        "elif float(imc >= 30 and imc <35):\n",
        "  print('Obesidade I .')\n",
        "elif float(imc>=35 and imc < 40 ):\n",
        "  print('Obesidade classe II .')\n",
        "elif float(imc>=40):\n",
        "  print('Obesidade classe III .')\n",
        "print('O IMC do paciente é : ' , round(imc,2))"
      ],
      "metadata": {
        "colab": {
          "base_uri": "https://localhost:8080/"
        },
        "id": "BLnCQy5dUsqU",
        "outputId": "83cede10-3f60-4b67-87ff-1d921e3ebe29"
      },
      "execution_count": 11,
      "outputs": [
        {
          "output_type": "stream",
          "name": "stdout",
          "text": [
            "Para calcular o seu IMC informe os seguintes dados:\n",
            "Informe sua altura :1.75\n",
            "Informe seu peso :86.5\n",
            "Excesso de peso .\n",
            "O IMC do paciente é :  28.24\n"
          ]
        }
      ]
    },
    {
      "cell_type": "code",
      "source": [
        " #Desenvolva um algoritmo que solicite três números A, B e C. Imprima na tela se A+B é menor que C.\n",
        "a=int(input('Digite um número .'))\n",
        "b=int(input('Digite um número .'))\n",
        "c=int(input('Digite um número .'))\n",
        "\n",
        "res=a+b\n",
        "soma= res < c\n",
        "if res < c :\n",
        "  print('A+B é menor que C')\n",
        "else:\n",
        "  print('A+B é maior que C ' , round(soma,1))"
      ],
      "metadata": {
        "colab": {
          "base_uri": "https://localhost:8080/"
        },
        "id": "xXX1QRcmXbb8",
        "outputId": "1be415e2-ce6a-4990-8ec5-112a9abe6c18"
      },
      "execution_count": 22,
      "outputs": [
        {
          "output_type": "stream",
          "name": "stdout",
          "text": [
            "Digite um número .1\n",
            "Digite um número .8\n",
            "Digite um número .1\n",
            "A+B é maior que C  0\n"
          ]
        }
      ]
    },
    {
      "cell_type": "code",
      "source": [
        "num=int(input('informe um número para saber se ele é par ou impar'))\n",
        "if num % 2 == 0 : \n",
        "  print('Par')\n",
        "else:\n",
        "  print('Impar')"
      ],
      "metadata": {
        "colab": {
          "base_uri": "https://localhost:8080/"
        },
        "id": "SxpeTcZaZ1rN",
        "outputId": "b0e3f4ef-5b15-4514-ba87-143ad7c2f7bc"
      },
      "execution_count": 5,
      "outputs": [
        {
          "output_type": "stream",
          "name": "stdout",
          "text": [
            "informe um número para saber se ele é par ou impar10\n",
            "Par\n"
          ]
        }
      ]
    },
    {
      "cell_type": "code",
      "source": [
        "num=int(input('informe um número para saber se ele é x3 :'))\n",
        "if num % 3 == 0 : \n",
        "  print('Multiplo')\n",
        "else:\n",
        "  print('Não multiplo')"
      ],
      "metadata": {
        "colab": {
          "base_uri": "https://localhost:8080/"
        },
        "id": "qi8YUDr4HIfq",
        "outputId": "219f3482-38c3-41e4-dba3-9c0181ee6652"
      },
      "execution_count": 8,
      "outputs": [
        {
          "output_type": "stream",
          "name": "stdout",
          "text": [
            "informe um número para saber se ele é x3 :454749\n",
            "Multiplo\n"
          ]
        }
      ]
    },
    {
      "cell_type": "code",
      "source": [
        "#Escreva um algoritmo que solicita o nome da pessoa, e o ano de nascimento. Então, calcula a idade e, se for menor que 18 anos, solicita o nome da Mãe.\n",
        "nome=input('Digite seu nome :')\n",
        "ano=int(input('Digite o ano de nascimento :'))\n",
        "res= 2023-ano\n",
        "print(res)\n",
        "if (res < 18):\n",
        "  print(input('Digite o nome de sua mãe :'))\n",
        "else:\n",
        "  print('xau')"
      ],
      "metadata": {
        "colab": {
          "base_uri": "https://localhost:8080/"
        },
        "id": "KN0ogyVVHIl4",
        "outputId": "224400be-82b9-4967-df52-aea8de39abce"
      },
      "execution_count": 19,
      "outputs": [
        {
          "output_type": "stream",
          "name": "stdout",
          "text": [
            "Digite seu nome :ççç\n",
            "Digite o ano de nascimento :2019\n",
            "4\n",
            "Digite o nome de sua mãe :fdfd\n",
            "fdfd\n"
          ]
        }
      ]
    },
    {
      "cell_type": "code",
      "source": [
        "#Faça um algoritmo que solicita um número, e retorna: O dobro caso o número seja positivo, o triplo caso o número seja negativo.\n",
        "num=int(input('Digite um número '))\n",
        "if num >= 0:\n",
        "  print(num*2)\n",
        "else:\n",
        "  print(num*3)"
      ],
      "metadata": {
        "colab": {
          "base_uri": "https://localhost:8080/"
        },
        "id": "wxNYFlxsJiLq",
        "outputId": "46fa7a6a-4404-48fe-8ecf-ee204a7503a5"
      },
      "execution_count": 21,
      "outputs": [
        {
          "output_type": "stream",
          "name": "stdout",
          "text": [
            "Digite um número -5\n",
            "-15\n"
          ]
        }
      ]
    },
    {
      "cell_type": "code",
      "source": [
        "#Escreva um algoritmo que recebe 2 valores inteiros e escreve na tela qual é o maior\n",
        "num=int(input('Digite um número :'))\n",
        "num2=int(input('Digite um número : '))\n",
        "if num>num2:\n",
        "  print('O maior número é' , num ) \n",
        "else:\n",
        "  print('O maior número é ' ,num2)"
      ],
      "metadata": {
        "colab": {
          "base_uri": "https://localhost:8080/"
        },
        "id": "I_F8aM9nKFxR",
        "outputId": "b85fbc7d-62de-4acc-927b-80e873642e6b"
      },
      "execution_count": 24,
      "outputs": [
        {
          "output_type": "stream",
          "name": "stdout",
          "text": [
            "Digite um número :4\n",
            "Digite um número : 5\n",
            "O maior número é  5\n"
          ]
        }
      ]
    }
  ]
}